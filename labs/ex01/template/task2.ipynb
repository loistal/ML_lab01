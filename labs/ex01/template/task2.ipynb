{
 "cells": [
  {
   "cell_type": "code",
   "execution_count": 232,
   "metadata": {
    "collapsed": false
   },
   "outputs": [
    {
     "name": "stdout",
     "output_type": "stream",
     "text": [
      "The autoreload extension is already loaded. To reload it, use:\n",
      "  %reload_ext autoreload\n"
     ]
    }
   ],
   "source": [
    "%matplotlib inline\n",
    "import numpy as np\n",
    "import matplotlib.pyplot as plt\n",
    "%load_ext autoreload\n",
    "%autoreload 2"
   ]
  },
  {
   "cell_type": "markdown",
   "metadata": {},
   "source": [
    "Data Generation\n",
    "==="
   ]
  },
  {
   "cell_type": "code",
   "execution_count": 233,
   "metadata": {
    "collapsed": false
   },
   "outputs": [
    {
     "name": "stdout",
     "output_type": "stream",
     "text": [
      "[[ 0.77132064  0.02075195]\n",
      " [ 0.63364823  0.74880388]\n",
      " [ 0.49850701  0.22479665]\n",
      " [ 0.19806286  0.76053071]] \n",
      "\n",
      " [[ 0.16911084  0.08833981]\n",
      " [ 0.68535982  0.95339335]\n",
      " [ 0.00394827  0.51219226]\n",
      " [ 0.81262096  0.61252607]\n",
      " [ 0.72175532  0.29187607]]\n"
     ]
    }
   ],
   "source": [
    "np.random.seed(10)\n",
    "p, q = (np.random.rand(i, 2) for i in (4, 5))\n",
    "p_big, q_big = (np.random.rand(i, 80) for i in (100, 120))\n",
    "\n",
    "print(p, \"\\n\\n\", q)"
   ]
  },
  {
   "cell_type": "markdown",
   "metadata": {},
   "source": [
    "Solution\n",
    "==="
   ]
  },
  {
   "cell_type": "code",
   "execution_count": 234,
   "metadata": {
    "collapsed": false
   },
   "outputs": [
    {
     "data": {
      "text/plain": [
       "array([[ 0.60599073,  0.93659449,  0.91124856,  0.59321356,  0.27561751],\n",
       "       [ 0.80746999,  0.21102354,  0.67268649,  0.22495084,  0.46534491],\n",
       "       [ 0.35654215,  0.75217493,  0.57200052,  0.49900068,  0.23310825],\n",
       "       [ 0.67281411,  0.52407472,  0.31520226,  0.63212897,  0.70277376]])"
      ]
     },
     "execution_count": 234,
     "metadata": {},
     "output_type": "execute_result"
    }
   ],
   "source": [
    "def naive(p, q): #inputs: 2 matrices with 2 columns\n",
    "     \n",
    "    result_dimension_x = p.shape[0]\n",
    "    result_dimension_y = q.shape[0]\n",
    "\n",
    "    D = np.zeros((result_dimension_x, result_dimension_y))\n",
    "    for i in range(0, result_dimension_x):\n",
    "        for j in range(0, result_dimension_y):\n",
    "            p_point = p[i]\n",
    "            q_point = q[j]\n",
    "            D[i][j] = np.linalg.norm(p_point-q_point)\n",
    "    \n",
    "    return D\n",
    "\n",
    "naive(p, q)"
   ]
  },
  {
   "cell_type": "markdown",
   "metadata": {},
   "source": [
    "### Use matching indices\n",
    "\n",
    "Instead of iterating through indices, one can use them directly to parallelize the operations with Numpy."
   ]
  },
  {
   "cell_type": "code",
   "execution_count": 235,
   "metadata": {
    "collapsed": false
   },
   "outputs": [
    {
     "name": "stdout",
     "output_type": "stream",
     "text": [
      "[[0 0 0 0 0]\n",
      " [1 1 1 1 1]\n",
      " [2 2 2 2 2]\n",
      " [3 3 3 3 3]]\n",
      "\n",
      "[[0 1 2 3 4]\n",
      " [0 1 2 3 4]\n",
      " [0 1 2 3 4]\n",
      " [0 1 2 3 4]]\n"
     ]
    }
   ],
   "source": [
    "rows, cols = np.indices((p.shape[0], q.shape[0])) # shape[0] is the length of the first dimension\n",
    "print(rows, end='\\n\\n')\n",
    "print(cols)"
   ]
  },
  {
   "cell_type": "code",
   "execution_count": 236,
   "metadata": {
    "collapsed": false
   },
   "outputs": [
    {
     "name": "stdout",
     "output_type": "stream",
     "text": [
      "[[ 0.77132064  0.02075195]\n",
      " [ 0.77132064  0.02075195]\n",
      " [ 0.77132064  0.02075195]\n",
      " [ 0.77132064  0.02075195]\n",
      " [ 0.77132064  0.02075195]\n",
      " [ 0.63364823  0.74880388]\n",
      " [ 0.63364823  0.74880388]\n",
      " [ 0.63364823  0.74880388]\n",
      " [ 0.63364823  0.74880388]\n",
      " [ 0.63364823  0.74880388]\n",
      " [ 0.49850701  0.22479665]\n",
      " [ 0.49850701  0.22479665]\n",
      " [ 0.49850701  0.22479665]\n",
      " [ 0.49850701  0.22479665]\n",
      " [ 0.49850701  0.22479665]\n",
      " [ 0.19806286  0.76053071]\n",
      " [ 0.19806286  0.76053071]\n",
      " [ 0.19806286  0.76053071]\n",
      " [ 0.19806286  0.76053071]\n",
      " [ 0.19806286  0.76053071]]\n",
      "\n",
      "[[ 0.16911084  0.08833981]\n",
      " [ 0.68535982  0.95339335]\n",
      " [ 0.00394827  0.51219226]\n",
      " [ 0.81262096  0.61252607]\n",
      " [ 0.72175532  0.29187607]\n",
      " [ 0.16911084  0.08833981]\n",
      " [ 0.68535982  0.95339335]\n",
      " [ 0.00394827  0.51219226]\n",
      " [ 0.81262096  0.61252607]\n",
      " [ 0.72175532  0.29187607]\n",
      " [ 0.16911084  0.08833981]\n",
      " [ 0.68535982  0.95339335]\n",
      " [ 0.00394827  0.51219226]\n",
      " [ 0.81262096  0.61252607]\n",
      " [ 0.72175532  0.29187607]\n",
      " [ 0.16911084  0.08833981]\n",
      " [ 0.68535982  0.95339335]\n",
      " [ 0.00394827  0.51219226]\n",
      " [ 0.81262096  0.61252607]\n",
      " [ 0.72175532  0.29187607]]\n"
     ]
    }
   ],
   "source": [
    "print(p[rows.ravel()], end='\\n\\n')\n",
    "print(q[cols.ravel()])"
   ]
  },
  {
   "cell_type": "code",
   "execution_count": 237,
   "metadata": {
    "collapsed": false
   },
   "outputs": [
    {
     "name": "stdout",
     "output_type": "stream",
     "text": [
      "[0 0 0 0 0 1 1 1 1 1 2 2 2 2 2 3 3 3 3 3]\n",
      "[0 1 2 3 4 0 1 2 3 4 0 1 2 3 4 0 1 2 3 4]\n"
     ]
    },
    {
     "ename": "NameError",
     "evalue": "name 'numpy' is not defined",
     "output_type": "error",
     "traceback": [
      "\u001b[1;31m---------------------------------------------------------------------------\u001b[0m",
      "\u001b[1;31mNameError\u001b[0m                                 Traceback (most recent call last)",
      "\u001b[1;32m<ipython-input-237-da1148417875>\u001b[0m in \u001b[0;36m<module>\u001b[1;34m()\u001b[0m\n\u001b[0;32m     21\u001b[0m     \u001b[1;32mreturn\u001b[0m \u001b[0mraveled_D\u001b[0m\u001b[1;33m\u001b[0m\u001b[0m\n\u001b[0;32m     22\u001b[0m \u001b[1;33m\u001b[0m\u001b[0m\n\u001b[1;32m---> 23\u001b[1;33m \u001b[0mwith_indices\u001b[0m\u001b[1;33m(\u001b[0m\u001b[0mp\u001b[0m\u001b[1;33m,\u001b[0m \u001b[0mq\u001b[0m\u001b[1;33m)\u001b[0m\u001b[1;33m\u001b[0m\u001b[0m\n\u001b[0m",
      "\u001b[1;32m<ipython-input-237-da1148417875>\u001b[0m in \u001b[0;36mwith_indices\u001b[1;34m(p, q)\u001b[0m\n\u001b[0;32m     17\u001b[0m     '''\n\u001b[0;32m     18\u001b[0m \u001b[1;33m\u001b[0m\u001b[0m\n\u001b[1;32m---> 19\u001b[1;33m     \u001b[0mraveled_D\u001b[0m \u001b[1;33m=\u001b[0m \u001b[1;33m(\u001b[0m\u001b[0mnumpy\u001b[0m\u001b[1;33m.\u001b[0m\u001b[0mlinalg\u001b[0m\u001b[1;33m.\u001b[0m\u001b[0mnorm\u001b[0m\u001b[1;33m(\u001b[0m\u001b[0mp\u001b[0m\u001b[1;33m[\u001b[0m\u001b[0mrow_indices\u001b[0m\u001b[1;33m]\u001b[0m \u001b[1;33m-\u001b[0m \u001b[0mq\u001b[0m\u001b[1;33m[\u001b[0m\u001b[0mcol_indices\u001b[0m\u001b[1;33m]\u001b[0m\u001b[1;33m)\u001b[0m\u001b[1;33m)\u001b[0m\u001b[1;33m\u001b[0m\u001b[0m\n\u001b[0m\u001b[0;32m     20\u001b[0m \u001b[1;33m\u001b[0m\u001b[0m\n\u001b[0;32m     21\u001b[0m     \u001b[1;32mreturn\u001b[0m \u001b[0mraveled_D\u001b[0m\u001b[1;33m\u001b[0m\u001b[0m\n",
      "\u001b[1;31mNameError\u001b[0m: name 'numpy' is not defined"
     ]
    }
   ],
   "source": [
    "def with_indices(p, q):\n",
    "    \n",
    "    row_indices = rows.ravel()\n",
    "    col_indices = cols.ravel()\n",
    "\n",
    "    print(row_indices)\n",
    "    print(col_indices)\n",
    "    #D = np.zeros((p.shape[0], q.shape[0]))\n",
    "    \n",
    "    '''\n",
    "    matrix_indices = list(zip(row_indices, col_indices)) #zip returns an iterator -> use zip to see content\n",
    "    print(matrix_indices)\n",
    "    print(matrix_indices[0][0])\n",
    "    print(matrix_indices[1][1])\n",
    "    print(p[matrix_indices[0]])\n",
    "    print(q[matrix_indices[1]])\n",
    "    '''\n",
    "    \n",
    "    raveled_D = (numpy.linalg.norm(p[row_indices] - q[col_indices]))\n",
    "    \n",
    "    return raveled_D\n",
    "\n",
    "with_indices(p, q)"
   ]
  },
  {
   "cell_type": "markdown",
   "metadata": {},
   "source": [
    "### Use a library\n",
    "\n",
    "`scipy` is the equivalent of matlab toolboxes and have a lot to offer. Actually the pairwise computation is part of the library through the `spatial` module."
   ]
  },
  {
   "cell_type": "code",
   "execution_count": null,
   "metadata": {
    "collapsed": false
   },
   "outputs": [],
   "source": [
    "from scipy.spatial.distance import cdist\n",
    "\n",
    "def scipy_version(p, q):\n",
    "    return cdist(p, q)"
   ]
  },
  {
   "cell_type": "markdown",
   "metadata": {},
   "source": [
    "### Numpy Magic"
   ]
  },
  {
   "cell_type": "code",
   "execution_count": null,
   "metadata": {
    "collapsed": false
   },
   "outputs": [],
   "source": [
    "def tensor_broadcasting(p, q):\n",
    "    return np.sqrt(np.sum((p[:,np.newaxis,:]-q[np.newaxis,:,:])**2, axis=2))"
   ]
  },
  {
   "cell_type": "markdown",
   "metadata": {},
   "source": [
    "# Compare methods"
   ]
  },
  {
   "cell_type": "code",
   "execution_count": null,
   "metadata": {
    "collapsed": false
   },
   "outputs": [],
   "source": [
    "methods = [naive, with_indices, scipy_version, tensor_broadcasting]\n",
    "timers = []\n",
    "for f in methods:\n",
    "    r = %timeit -o f(p_big, q_big)\n",
    "    timers.append(r)"
   ]
  },
  {
   "cell_type": "code",
   "execution_count": null,
   "metadata": {
    "collapsed": false
   },
   "outputs": [],
   "source": [
    "plt.figure(figsize=(10,6))\n",
    "plt.bar(np.arange(len(methods)), [r.best*1000 for r in timers], log=False)  # Set log to True for logarithmic scale\n",
    "plt.xticks(np.arange(len(methods))+0.2, [f.__name__ for f in methods], rotation=30)\n",
    "plt.xlabel('Method')\n",
    "plt.ylabel('Time (ms)')"
   ]
  },
  {
   "cell_type": "code",
   "execution_count": null,
   "metadata": {
    "collapsed": true
   },
   "outputs": [],
   "source": []
  }
 ],
 "metadata": {
  "anaconda-cloud": {},
  "kernelspec": {
   "display_name": "Python [Root]",
   "language": "python",
   "name": "Python [Root]"
  },
  "language_info": {
   "codemirror_mode": {
    "name": "ipython",
    "version": 3
   },
   "file_extension": ".py",
   "mimetype": "text/x-python",
   "name": "python",
   "nbconvert_exporter": "python",
   "pygments_lexer": "ipython3",
   "version": "3.5.2"
  }
 },
 "nbformat": 4,
 "nbformat_minor": 0
}
